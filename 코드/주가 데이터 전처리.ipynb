{
 "cells": [
  {
   "cell_type": "markdown",
   "metadata": {},
   "source": [
    "# 주가 데이터에서 날짜, 종가 등 전처리"
   ]
  },
  {
   "cell_type": "markdown",
   "metadata": {},
   "source": [
    "## HYBE"
   ]
  },
  {
   "cell_type": "code",
   "execution_count": 79,
   "metadata": {},
   "outputs": [
    {
     "name": "stdout",
     "output_type": "stream",
     "text": [
      "          날짜        종가       시가       고가       저가    거래량     변동 %\n",
      "0 2020-10-16  198495.0  250,470  250,470  197,010  4.44M  -22.29%\n",
      "1 2020-10-19  187110.0  196,515  200,475  185,130  1.97M   -5.74%\n",
      "2 2020-10-20  180675.0  188,100  191,565  174,240  1.77M   -3.44%\n",
      "3 2020-10-21  177210.0  178,695  183,645  175,230  1.62M   -1.92%\n",
      "4 2020-10-22  178200.0  174,735  183,150  173,745  1.17M    0.56%\n"
     ]
    }
   ],
   "source": [
    "import pandas as pd\n",
    "\n",
    "# 파일 경로\n",
    "hybe_stock_file = '../데이터/HYBE 과거 데이터.csv'\n",
    "\n",
    "# 주가 데이터 전처리 함수\n",
    "def clean_stock(df):\n",
    "    df['날짜'] = df['날짜'].str.replace(' ', '').astype(str)\n",
    "    df['날짜'] = pd.to_datetime(df['날짜'], format='%Y-%m-%d', errors='coerce')\n",
    "    df['종가'] = df['종가'].str.replace(',', '').astype(float)\n",
    "    return df.sort_values('날짜')\n",
    "\n",
    "\n",
    "# 데이터 불러오기\n",
    "hybe_stock_df = pd.read_csv(hybe_stock_file)\n",
    "\n",
    "# 전처리\n",
    "hybe_stock_clean = clean_stock(hybe_stock_df)\n",
    "\n",
    "# 결과 확인\n",
    "print(hybe_stock_clean.head())\n",
    "\n",
    "# 저장\n",
    "hybe_stock_clean.to_csv('../데이터/HYBE_주가_전처리.csv', index=False, encoding='utf-8-sig')"
   ]
  },
  {
   "cell_type": "markdown",
   "metadata": {},
   "source": [
    "## JYP"
   ]
  },
  {
   "cell_type": "code",
   "execution_count": 80,
   "metadata": {},
   "outputs": [
    {
     "name": "stdout",
     "output_type": "stream",
     "text": [
      "          날짜      종가     시가     고가     저가      거래량    변동 %\n",
      "0 2014-03-14  5900.0  5,710  6,200  5,710  731.82K   1.37%\n",
      "1 2014-03-17  5820.0  5,950  6,030  5,730  328.39K  -1.36%\n",
      "2 2014-03-18  5980.0  5,840  5,990  5,760  303.54K   2.75%\n",
      "3 2014-03-19  5950.0  5,950  6,100  5,920  306.93K  -0.50%\n",
      "4 2014-03-20  5960.0  5,710  6,040  5,710  346.46K   0.17%\n"
     ]
    }
   ],
   "source": [
    "# 파일 경로\n",
    "jyp_stock_file = '../데이터/JYP 과거 데이터.csv'\n",
    "\n",
    "# 데이터 불러오기\n",
    "jyp_stock_df = pd.read_csv(jyp_stock_file)\n",
    "\n",
    "# 전처리\n",
    "jyp_stock_clean = clean_stock(jyp_stock_df)\n",
    "\n",
    "# 결과 확인\n",
    "print(jyp_stock_clean.head())\n",
    "jyp_stock_clean.to_csv('../데이터/JYP_주가_전처리.csv', index=False, encoding='utf-8-sig')"
   ]
  },
  {
   "cell_type": "markdown",
   "metadata": {},
   "source": [
    "## SM"
   ]
  },
  {
   "cell_type": "code",
   "execution_count": 81,
   "metadata": {},
   "outputs": [
    {
     "name": "stdout",
     "output_type": "stream",
     "text": [
      "          날짜       종가      시가      고가      저가      거래량    변동 %\n",
      "0 2014-03-14  51700.0  52,100  53,200  51,700  214.32K  -2.82%\n",
      "1 2014-03-17  50000.0  51,500  51,600  48,550  517.68K  -3.29%\n",
      "2 2014-03-18  51000.0  50,100  51,100  49,250  249.08K   2.00%\n",
      "3 2014-03-19  49750.0  51,000  51,300  49,650  199.28K  -2.45%\n",
      "4 2014-03-20  47800.0  46,550  49,050  45,800    1.49M  -3.92%\n"
     ]
    }
   ],
   "source": [
    "# 파일 경로\n",
    "sm_stock_file = '../데이터/SM 과거 데이터.csv'\n",
    "\n",
    "# 데이터 불러오기\n",
    "sm_stock_df = pd.read_csv(sm_stock_file)\n",
    "\n",
    "# 전처리\n",
    "sm_stock_clean = clean_stock(sm_stock_df)\n",
    "\n",
    "# 결과 확인\n",
    "print(sm_stock_clean.head())\n",
    "sm_stock_clean.to_csv('../데이터/SM_주가_전처리.csv', index=False, encoding='utf-8-sig')"
   ]
  },
  {
   "cell_type": "markdown",
   "metadata": {},
   "source": [
    "## YG"
   ]
  },
  {
   "cell_type": "code",
   "execution_count": 82,
   "metadata": {},
   "outputs": [
    {
     "name": "stdout",
     "output_type": "stream",
     "text": [
      "          날짜       종가      시가      고가      저가      거래량    변동 %\n",
      "0 2014-03-17  47846.0  50,692  51,000  47,308  383.94K  -5.47%\n",
      "1 2014-03-18  49538.0  48,077  50,923  47,615  383.91K   3.54%\n",
      "2 2014-03-19  49231.0  49,538  49,769  48,538  130.03K  -0.62%\n",
      "3 2014-03-20  49154.0  47,769  49,538  47,692  208.90K  -0.16%\n",
      "4 2014-03-21  49615.0  49,538  49,769  48,846  104.89K   0.94%\n"
     ]
    }
   ],
   "source": [
    "# 파일 경로\n",
    "yg_stock_file = '../데이터/YG 과거 데이터.csv'\n",
    "\n",
    "# 데이터 불러오기\n",
    "yg_stock_df = pd.read_csv(yg_stock_file)\n",
    "\n",
    "# 전처리\n",
    "yg_stock_clean = clean_stock(yg_stock_df)\n",
    "\n",
    "# 결과 확인\n",
    "print(yg_stock_clean.head())\n",
    "yg_stock_clean.to_csv('../데이터/YG_주가_전처리.csv', index=False, encoding='utf-8-sig')"
   ]
  },
  {
   "cell_type": "markdown",
   "metadata": {},
   "source": [
    "## 코스닥 엔터&컬쳐"
   ]
  },
  {
   "cell_type": "code",
   "execution_count": 83,
   "metadata": {},
   "outputs": [
    {
     "name": "stdout",
     "output_type": "stream",
     "text": [
      "          날짜      종가      시가      고가      저가     거래량    변동 %\n",
      "0 2014-03-10  675.86  656.91  675.86  656.31  17.64K   4.20%\n",
      "1 2014-03-11  672.68  679.36  692.03  670.19  30.91K  -0.47%\n",
      "2 2014-03-12  673.39  677.49  680.32  668.75  33.55K   0.11%\n",
      "3 2014-03-13  679.69  678.71  679.74  661.38  35.02K   0.94%\n",
      "4 2014-03-14  659.55  669.19  677.63  659.55  24.24K  -2.96%\n"
     ]
    }
   ],
   "source": [
    "# 파일 경로\n",
    "KOSDAQ_EC_stock_file = '../데이터/KOSDAQ Entertainment & Culture 과거 데이터.csv'\n",
    "\n",
    "# 주가 데이터 전처리 함수\n",
    "def clean_stock(df):\n",
    "    df['날짜'] = df['날짜'].str.replace(' ', '').astype(str)\n",
    "    df['날짜'] = pd.to_datetime(df['날짜'], format='%Y-%m-%d', errors='coerce')\n",
    "    return df.sort_values('날짜')\n",
    "\n",
    "\n",
    "# 데이터 불러오기\n",
    "KOSDAQ_EC_stock_df = pd.read_csv(KOSDAQ_EC_stock_file)\n",
    "\n",
    "# 전처리\n",
    "KOSDAQ_EC_stock_clean = clean_stock(KOSDAQ_EC_stock_df)\n",
    "\n",
    "# 결과 확인\n",
    "print(KOSDAQ_EC_stock_clean.head())\n",
    "\n",
    "# 저장\n",
    "KOSDAQ_EC_stock_clean.to_csv('../데이터/KOSDAQ Entertainment & Culture_전처리.csv', index=False, encoding='utf-8-sig')"
   ]
  },
  {
   "cell_type": "markdown",
   "metadata": {},
   "source": [
    "# 코스닥"
   ]
  },
  {
   "cell_type": "code",
   "execution_count": 85,
   "metadata": {},
   "outputs": [
    {
     "name": "stdout",
     "output_type": "stream",
     "text": [
      "          날짜     종가      시가      고가     저가      거래량   변동 %\n",
      "0 2001-01-02  557.0  502.50  559.60  502.5  201.21K  5.93%\n",
      "1 2001-01-03  569.0  545.80  579.90  539.3  284.99K  2.15%\n",
      "2 2001-01-04  615.1  617.70  621.50  609.0  233.13K  8.10%\n",
      "3 2001-01-05  625.2  614.50  630.70  602.5  367.23K  1.64%\n",
      "4 2001-01-08  650.0  614.90  657.00  614.0  358.62K  3.97%\n"
     ]
    }
   ],
   "source": [
    "# 파일 경로\n",
    "KOSDAQ_stock_file = '../데이터/코스닥 과거 데이터.csv'\n",
    "\n",
    "# 주가 데이터 전처리 함수\n",
    "def clean_stock(df):\n",
    "    df['날짜'] = df['날짜'].str.replace(' ', '').astype(str)\n",
    "    df['날짜'] = pd.to_datetime(df['날짜'], format='%Y-%m-%d', errors='coerce')\n",
    "    return df.sort_values('날짜')\n",
    "\n",
    "\n",
    "# 데이터 불러오기\n",
    "KOSDAQ_stock_df = pd.read_csv(KOSDAQ_stock_file)\n",
    "\n",
    "# 전처리\n",
    "KOSDAQ_stock_clean = clean_stock(KOSDAQ_stock_df)\n",
    "\n",
    "# 결과 확인\n",
    "print(KOSDAQ_stock_clean.head())\n",
    "\n",
    "# 저장\n",
    "KOSDAQ_stock_clean.to_csv('../데이터/코스닥_전처리.csv', index=False, encoding='utf-8-sig')"
   ]
  },
  {
   "cell_type": "markdown",
   "metadata": {},
   "source": [
    "# 사건 데이터에서 사건 날짜 포맷 변환 확인"
   ]
  },
  {
   "cell_type": "markdown",
   "metadata": {},
   "source": [
    "## HYBE"
   ]
  },
  {
   "cell_type": "code",
   "execution_count": 86,
   "metadata": {},
   "outputs": [
    {
     "name": "stdout",
     "output_type": "stream",
     "text": [
      "    소속사     그룹 연예인 이름      사건 날짜  \\\n",
      "0  HYBE  방탄소년단     슈가 2020-05-17   \n",
      "1  HYBE  방탄소년단     슈가 2020-05-29   \n",
      "2  HYBE  방탄소년단     RM 2016-07-06   \n",
      "3  HYBE  방탄소년단     지민 2022-04-25   \n",
      "4  HYBE  방탄소년단     정국 2019-09-16   \n",
      "\n",
      "                                               사건 내용  \n",
      "0  2020년 5월 17일 발매된 슈가의 믹스테잎 D-2 의 수록곡 <어떻게 생각해?>...  \n",
      "1  2020년 5월 29일, 진행한 V LIVE 에서 슈가는 팬들 에게 총 10곡이 담...  \n",
      "2  2016년 7월 6일 방탄소년단의 소속사 빅히트 엔터테인먼트 는 여성혐오 가사 논란...  \n",
      "3  2022년 4월 25일, 언론사 비즈한국의 취재결과 건강보험료 체납으로 보유하고 있...  \n",
      "4  2019년 9월 16일, 거제도 한 노래방에서 정국으로 보이는 남자가 짧은 금발 머...  \n"
     ]
    }
   ],
   "source": [
    "# 파일 경로\n",
    "hybe_incident_file = '../데이터/HYBE논란_크롤링.csv'\n",
    "\n",
    "# 사건 데이터 전처리 함수\n",
    "def clean_incident(df):\n",
    "    df['사건 날짜'] = (\n",
    "        df['사건 날짜']\n",
    "        .str.replace('\\n', '', regex=False)         # 줄바꿈 제거\n",
    "        .str.replace(r'\\s+', '', regex=True)        # 모든 공백 제거\n",
    "        .str.replace('년', '-')\n",
    "        .str.replace('월', '-')\n",
    "        .str.replace('일', '')\n",
    "    )\n",
    "    df['사건 날짜'] = pd.to_datetime(df['사건 날짜'], format='%Y-%m-%d', errors='coerce')\n",
    "    return df\n",
    "\n",
    "\n",
    "# 데이터 불러오기\n",
    "hybe_incident_df = pd.read_csv(hybe_incident_file)\n",
    "\n",
    "# 전처리\n",
    "hybe_incident_clean = clean_incident(hybe_incident_df)\n",
    "\n",
    "# 결과 확인\n",
    "print(hybe_incident_clean.head())\n",
    "# 저장\n",
    "hybe_incident_clean.to_csv('../데이터/HYBE_사건_전처리.csv', index=False, encoding='utf-8-sig')"
   ]
  },
  {
   "cell_type": "code",
   "execution_count": 69,
   "metadata": {},
   "outputs": [
    {
     "name": "stdout",
     "output_type": "stream",
     "text": [
      "Empty DataFrame\n",
      "Columns: [소속사, 그룹, 연예인 이름, 사건 날짜]\n",
      "Index: []\n"
     ]
    }
   ],
   "source": [
    "# 변환 실패한 데이터 찾기\n",
    "hybe_problem_rows = hybe_incident_clean[hybe_incident_clean['사건 날짜'].isna()]\n",
    "print(hybe_problem_rows)"
   ]
  },
  {
   "cell_type": "markdown",
   "metadata": {},
   "source": [
    "## JYP"
   ]
  },
  {
   "cell_type": "code",
   "execution_count": 87,
   "metadata": {},
   "outputs": [
    {
     "name": "stdout",
     "output_type": "stream",
     "text": [
      "   소속사   그룹 연예인 이름      사건 날짜  \\\n",
      "0  JYP  2PM    준케이 2018-02-10   \n",
      "1  JYP  2PM    준케이 2018-02-19   \n",
      "2  JYP  2PM    준케이 2018-04-10   \n",
      "3  JYP  2PM    준케이 2018-05-08   \n",
      "4  JYP  2PM    준케이 2021-01-29   \n",
      "\n",
      "                                               사건 내용  \n",
      "0  2018년 2월 10일, 오전 7시 강남구 신사역에서 음주운전 을 하다가 단속에 적...  \n",
      "1  2018년 2월 19일 강원도 평창군 메달플라자에서 열리는 '헤드라이너쇼'에 참석할...  \n",
      "2  2018년 4월 10일 자로 JUN. K는 KBS·EBS·MBC는 물론이고, MBN...  \n",
      "3  2018년 5월 8일 공식 홈페이지에 반성하며 살겠다는 자필 편지를 남기고 비공개 ...  \n",
      "4  2021년 1월 29일에 방송된 MBC 예능 프로그램 나 혼자 산다 - 장우영 편에...  \n"
     ]
    }
   ],
   "source": [
    "# 파일 경로\n",
    "jyp_incident_file = '../데이터/JYP논란_크롤링.csv'\n",
    "\n",
    "# 데이터 불러오기\n",
    "jyp_incident_df = pd.read_csv(jyp_incident_file)\n",
    "\n",
    "# 전처리\n",
    "jyp_incident_clean = clean_incident(jyp_incident_df)\n",
    "\n",
    "# 결과 확인\n",
    "print(jyp_incident_clean.head())\n",
    "jyp_incident_clean.to_csv('../데이터/JYP_사건_전처리.csv', index=False, encoding='utf-8-sig')"
   ]
  },
  {
   "cell_type": "code",
   "execution_count": 52,
   "metadata": {},
   "outputs": [
    {
     "name": "stdout",
     "output_type": "stream",
     "text": [
      "Empty DataFrame\n",
      "Columns: [소속사, 그룹, 연예인 이름, 사건 날짜]\n",
      "Index: []\n"
     ]
    }
   ],
   "source": [
    "# 변환 실패한 데이터 찾기\n",
    "jyp_problem_rows = jyp_incident_clean[jyp_incident_clean['사건 날짜'].isna()]\n",
    "print(jyp_problem_rows)"
   ]
  },
  {
   "cell_type": "markdown",
   "metadata": {},
   "source": [
    "## SM"
   ]
  },
  {
   "cell_type": "code",
   "execution_count": 88,
   "metadata": {},
   "outputs": [
    {
     "name": "stdout",
     "output_type": "stream",
     "text": [
      "  소속사  그룹 연예인 이름      사건 날짜                                              사건 내용\n",
      "0  SM  엑소     백현 2017-12-30  2017년 12월 30일, 서울 강남구에서 진행한 엑소 팬 사인회에서 멘트 때 \"요...\n",
      "1  SM  엑소     백현 2018-02-14  2018년 2월 14일, 자신의 SNS를 통해 실시간 방송을 진행하던 중 '사생'에...\n",
      "2  SM  엑소     백현 2024-09-16  2024년 9월 16일, 백현이 식당으로 추정되는 곳에서 실내 흡연을 하는 영상이 ...\n",
      "3  SM  엑소      첸 2020-01-13  2020년 1월 13일 , 첸이 EXO 팬클럽 사이트 Lysn에 자필편지 로 결혼 ...\n",
      "4  SM  엑소      첸 2020-10-26  2020년 10월 26일, 1사단 에 상근예비역 으로 입대해 복무했다. #엑소 첸,...\n"
     ]
    }
   ],
   "source": [
    "# 파일 경로\n",
    "sm_incident_file = '../데이터/SM논란_크롤링.csv'\n",
    "\n",
    "# 데이터 불러오기\n",
    "sm_incident_df = pd.read_csv(sm_incident_file)\n",
    "\n",
    "# 전처리\n",
    "sm_incident_clean = clean_incident(sm_incident_df)\n",
    "\n",
    "# 결과 확인\n",
    "print(sm_incident_clean.head())\n",
    "sm_incident_clean.to_csv('../데이터/SM_사건_전처리.csv', index=False, encoding='utf-8-sig')"
   ]
  },
  {
   "cell_type": "code",
   "execution_count": 54,
   "metadata": {},
   "outputs": [
    {
     "name": "stdout",
     "output_type": "stream",
     "text": [
      "Empty DataFrame\n",
      "Columns: [소속사, 그룹, 연예인 이름, 사건 날짜]\n",
      "Index: []\n"
     ]
    }
   ],
   "source": [
    "# 변환 실패한 데이터 찾기\n",
    "sm_problem_rows = sm_incident_clean[sm_incident_clean['사건 날짜'].isna()]\n",
    "print(sm_problem_rows)"
   ]
  },
  {
   "cell_type": "markdown",
   "metadata": {},
   "source": [
    "## YG"
   ]
  },
  {
   "cell_type": "code",
   "execution_count": 89,
   "metadata": {},
   "outputs": [
    {
     "name": "stdout",
     "output_type": "stream",
     "text": [
      "  소속사  그룹 연예인 이름      사건 날짜                                              사건 내용\n",
      "0  YG  빅뱅     승리 2014-09-12  2014년 9월 12일 승리가 자신의 포르쉐 911 터보 S 를 몰고 강변북로를 달...\n",
      "1  YG  빅뱅     승리 2019-02-27  2019년 2월 27일 미디어오늘 은 2014년 승리의 음주운전 의혹을 제기한 기자...\n",
      "2  YG  빅뱅     승리 2019-03-13  2019년 3월 13일 경찰 유착이 의심되는 승리 카톡이 나오자 이 사건도 다시 재...\n",
      "3  YG  빅뱅     승리 2019-03-18  2019년 3월 18일 승리는 본인의 인스타그램 에 경찰 정복을 입고 찍은 사진을 ...\n",
      "4  YG  빅뱅     승리 2021-08-12    2021년 8월 12일에는 1심 보통군사법원에서 징역 3년을 선고받고 법정 구속됐다.\n"
     ]
    }
   ],
   "source": [
    "# 파일 경로\n",
    "yg_incident_file = '../데이터/YG논란_크롤링.csv'\n",
    "\n",
    "# 데이터 불러오기\n",
    "yg_incident_df = pd.read_csv(yg_incident_file)\n",
    "\n",
    "# 전처리\n",
    "yg_incident_clean = clean_incident(yg_incident_df)\n",
    "\n",
    "# 결과 확인\n",
    "print(yg_incident_clean.head())\n",
    "yg_incident_clean.to_csv('../데이터/YG_사건_전처리.csv', index=False, encoding='utf-8-sig')"
   ]
  },
  {
   "cell_type": "code",
   "execution_count": 56,
   "metadata": {},
   "outputs": [
    {
     "name": "stdout",
     "output_type": "stream",
     "text": [
      "Empty DataFrame\n",
      "Columns: [소속사, 그룹, 연예인 이름, 사건 날짜]\n",
      "Index: []\n"
     ]
    }
   ],
   "source": [
    "# 변환 실패한 데이터 찾기\n",
    "yg_problem_rows = yg_incident_clean[yg_incident_clean['사건 날짜'].isna()]\n",
    "print(yg_problem_rows)"
   ]
  }
 ],
 "metadata": {
  "kernelspec": {
   "display_name": "finance_2",
   "language": "python",
   "name": "python3"
  },
  "language_info": {
   "codemirror_mode": {
    "name": "ipython",
    "version": 3
   },
   "file_extension": ".py",
   "mimetype": "text/x-python",
   "name": "python",
   "nbconvert_exporter": "python",
   "pygments_lexer": "ipython3",
   "version": "3.12.9"
  }
 },
 "nbformat": 4,
 "nbformat_minor": 2
}
