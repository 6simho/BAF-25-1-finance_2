{
 "cells": [
  {
   "cell_type": "markdown",
   "metadata": {},
   "source": [
    "# 구글 트렌드로 인지도 및 관심도 데이터 추출"
   ]
  },
  {
   "cell_type": "code",
   "execution_count": 2,
   "metadata": {},
   "outputs": [],
   "source": [
    "import pandas as pd"
   ]
  },
  {
   "cell_type": "code",
   "execution_count": 3,
   "metadata": {},
   "outputs": [],
   "source": [
    "data=pd.read_csv('../데이터/incidents_merged.csv')"
   ]
  },
  {
   "cell_type": "code",
   "execution_count": 6,
   "metadata": {},
   "outputs": [
    {
     "data": {
      "text/html": [
       "<div>\n",
       "<style scoped>\n",
       "    .dataframe tbody tr th:only-of-type {\n",
       "        vertical-align: middle;\n",
       "    }\n",
       "\n",
       "    .dataframe tbody tr th {\n",
       "        vertical-align: top;\n",
       "    }\n",
       "\n",
       "    .dataframe thead th {\n",
       "        text-align: right;\n",
       "    }\n",
       "</style>\n",
       "<table border=\"1\" class=\"dataframe\">\n",
       "  <thead>\n",
       "    <tr style=\"text-align: right;\">\n",
       "      <th></th>\n",
       "      <th>소속사</th>\n",
       "      <th>그룹</th>\n",
       "      <th>연예인 이름</th>\n",
       "      <th>사건 날짜</th>\n",
       "      <th>사건 내용</th>\n",
       "    </tr>\n",
       "  </thead>\n",
       "  <tbody>\n",
       "    <tr>\n",
       "      <th>0</th>\n",
       "      <td>HYBE</td>\n",
       "      <td>방탄소년단</td>\n",
       "      <td>슈가</td>\n",
       "      <td>2020-05-17</td>\n",
       "      <td>2020년 5월 17일 발매된 슈가의 믹스테잎 D-2 의 수록곡 &lt;어떻게 생각해?&gt;...</td>\n",
       "    </tr>\n",
       "    <tr>\n",
       "      <th>1</th>\n",
       "      <td>HYBE</td>\n",
       "      <td>방탄소년단</td>\n",
       "      <td>슈가</td>\n",
       "      <td>2020-05-29</td>\n",
       "      <td>2020년 5월 29일, 진행한 V LIVE 에서 슈가는 팬들 에게 총 10곡이 담...</td>\n",
       "    </tr>\n",
       "    <tr>\n",
       "      <th>2</th>\n",
       "      <td>HYBE</td>\n",
       "      <td>방탄소년단</td>\n",
       "      <td>RM</td>\n",
       "      <td>2016-07-06</td>\n",
       "      <td>2016년 7월 6일 방탄소년단의 소속사 빅히트 엔터테인먼트 는 여성혐오 가사 논란...</td>\n",
       "    </tr>\n",
       "    <tr>\n",
       "      <th>3</th>\n",
       "      <td>HYBE</td>\n",
       "      <td>방탄소년단</td>\n",
       "      <td>지민</td>\n",
       "      <td>2022-04-25</td>\n",
       "      <td>2022년 4월 25일, 언론사 비즈한국의 취재결과 건강보험료 체납으로 보유하고 있...</td>\n",
       "    </tr>\n",
       "    <tr>\n",
       "      <th>4</th>\n",
       "      <td>HYBE</td>\n",
       "      <td>방탄소년단</td>\n",
       "      <td>정국</td>\n",
       "      <td>2019-09-16</td>\n",
       "      <td>2019년 9월 16일, 거제도 한 노래방에서 정국으로 보이는 남자가 짧은 금발 머...</td>\n",
       "    </tr>\n",
       "  </tbody>\n",
       "</table>\n",
       "</div>"
      ],
      "text/plain": [
       "    소속사     그룹 연예인 이름       사건 날짜  \\\n",
       "0  HYBE  방탄소년단     슈가  2020-05-17   \n",
       "1  HYBE  방탄소년단     슈가  2020-05-29   \n",
       "2  HYBE  방탄소년단     RM  2016-07-06   \n",
       "3  HYBE  방탄소년단     지민  2022-04-25   \n",
       "4  HYBE  방탄소년단     정국  2019-09-16   \n",
       "\n",
       "                                               사건 내용  \n",
       "0  2020년 5월 17일 발매된 슈가의 믹스테잎 D-2 의 수록곡 <어떻게 생각해?>...  \n",
       "1  2020년 5월 29일, 진행한 V LIVE 에서 슈가는 팬들 에게 총 10곡이 담...  \n",
       "2  2016년 7월 6일 방탄소년단의 소속사 빅히트 엔터테인먼트 는 여성혐오 가사 논란...  \n",
       "3  2022년 4월 25일, 언론사 비즈한국의 취재결과 건강보험료 체납으로 보유하고 있...  \n",
       "4  2019년 9월 16일, 거제도 한 노래방에서 정국으로 보이는 남자가 짧은 금발 머...  "
      ]
     },
     "execution_count": 6,
     "metadata": {},
     "output_type": "execute_result"
    }
   ],
   "source": [
    "data.head()"
   ]
  },
  {
   "cell_type": "code",
   "execution_count": 8,
   "metadata": {},
   "outputs": [
    {
     "data": {
      "text/html": [
       "<div>\n",
       "<style scoped>\n",
       "    .dataframe tbody tr th:only-of-type {\n",
       "        vertical-align: middle;\n",
       "    }\n",
       "\n",
       "    .dataframe tbody tr th {\n",
       "        vertical-align: top;\n",
       "    }\n",
       "\n",
       "    .dataframe thead th {\n",
       "        text-align: right;\n",
       "    }\n",
       "</style>\n",
       "<table border=\"1\" class=\"dataframe\">\n",
       "  <thead>\n",
       "    <tr style=\"text-align: right;\">\n",
       "      <th></th>\n",
       "      <th>소속사</th>\n",
       "      <th>그룹</th>\n",
       "      <th>연예인 이름</th>\n",
       "      <th>사건 날짜</th>\n",
       "      <th>사건 내용</th>\n",
       "    </tr>\n",
       "  </thead>\n",
       "  <tbody>\n",
       "    <tr>\n",
       "      <th>16</th>\n",
       "      <td>HYBE</td>\n",
       "      <td>엔하이픈</td>\n",
       "      <td>정원</td>\n",
       "      <td>2021-11-18</td>\n",
       "      <td>2021년 11월 18일 오후 5시 , ENHYPEN 은 D-1 이라는 제목으로 V...</td>\n",
       "    </tr>\n",
       "    <tr>\n",
       "      <th>17</th>\n",
       "      <td>HYBE</td>\n",
       "      <td>엔하이픈</td>\n",
       "      <td>정원</td>\n",
       "      <td>2021-11-19</td>\n",
       "      <td>2021년 11월 19일 사과문을 게시했다. [ 펼치기 · 접기 ] 엔진 여러분 안...</td>\n",
       "    </tr>\n",
       "  </tbody>\n",
       "</table>\n",
       "</div>"
      ],
      "text/plain": [
       "     소속사    그룹 연예인 이름       사건 날짜  \\\n",
       "16  HYBE  엔하이픈     정원  2021-11-18   \n",
       "17  HYBE  엔하이픈     정원  2021-11-19   \n",
       "\n",
       "                                                사건 내용  \n",
       "16  2021년 11월 18일 오후 5시 , ENHYPEN 은 D-1 이라는 제목으로 V...  \n",
       "17  2021년 11월 19일 사과문을 게시했다. [ 펼치기 · 접기 ] 엔진 여러분 안...  "
      ]
     },
     "execution_count": 8,
     "metadata": {},
     "output_type": "execute_result"
    }
   ],
   "source": [
    "data[data['연예인 이름']=='정원']"
   ]
  },
  {
   "cell_type": "code",
   "execution_count": 7,
   "metadata": {},
   "outputs": [
    {
     "data": {
      "text/plain": [
       "array(['슈가', 'RM', '지민', '정국', '정원', '제이', '니키', '김채원', '홍은채', '조슈아',\n",
       "       '민규', '도겸', '민지', '다니엘', '준케이', '닉쿤', '택연', '나연', '지효', '채영', '방찬',\n",
       "       '현진', '필릭스', '리아', '백현', '첸', '찬열', '카이', '유노윤호', '이특', '희철', '신동',\n",
       "       '은혁', '시원', '태연', '써니', '티파니', '유리', '수영', '서현', '아이린', '슬기', '웬디',\n",
       "       '예리', '쟈니', '태용', '윈윈', '런쥔', '해찬', '루카스', '태일', '지젤', '윈터', '닝닝',\n",
       "       '승리', '탑', '지드래곤', '대성', '제니', '리사', '송민호', '이승훈', '윤재혁', '하루토'],\n",
       "      dtype=object)"
      ]
     },
     "execution_count": 7,
     "metadata": {},
     "output_type": "execute_result"
    }
   ],
   "source": [
    "star_list=data['연예인 이름'].unique()\n",
    "star_list"
   ]
  },
  {
   "cell_type": "markdown",
   "metadata": {},
   "source": [
    "## 1. 수식어를 포함한 검색어로 변경(수작업)"
   ]
  },
  {
   "cell_type": "code",
   "execution_count": null,
   "metadata": {},
   "outputs": [],
   "source": [
    "plus_name=['래퍼','래퍼','가수','가수','대한민국 가수']"
   ]
  },
  {
   "cell_type": "markdown",
   "metadata": {},
   "source": [
    "=> 안됨. API로는 수식어 포함한 검색어를 해도 그냥 하나의 검색어로 들어가기 때문에 수식어를 구별해주지 않음\n",
    "- 따라서 검색어를 구체적으로 만드는 방법 이용. ex) 리사 블랙핑크"
   ]
  },
  {
   "cell_type": "code",
   "execution_count": null,
   "metadata": {},
   "outputs": [],
   "source": []
  },
  {
   "cell_type": "code",
   "execution_count": null,
   "metadata": {},
   "outputs": [],
   "source": []
  },
  {
   "cell_type": "markdown",
   "metadata": {},
   "source": [
    "## 2. 원래 데이터의 연예인 이름이랑 수식어 포함한 검색어명이랑 대조"
   ]
  },
  {
   "cell_type": "code",
   "execution_count": null,
   "metadata": {},
   "outputs": [],
   "source": [
    "google_trends_names={}\n",
    "\n",
    "for i in results_df['연예인'].unique():\n",
    "    google_trends_names[i]="
   ]
  },
  {
   "cell_type": "code",
   "execution_count": null,
   "metadata": {},
   "outputs": [],
   "source": []
  },
  {
   "cell_type": "code",
   "execution_count": null,
   "metadata": {},
   "outputs": [],
   "source": []
  },
  {
   "cell_type": "code",
   "execution_count": null,
   "metadata": {},
   "outputs": [],
   "source": []
  },
  {
   "cell_type": "markdown",
   "metadata": {},
   "source": [
    "## 3. 기준이 될 연예인 결정"
   ]
  },
  {
   "cell_type": "code",
   "execution_count": null,
   "metadata": {},
   "outputs": [],
   "source": []
  },
  {
   "cell_type": "markdown",
   "metadata": {},
   "source": [
    "## 4. 구글 트렌드 요청 그룹"
   ]
  },
  {
   "cell_type": "code",
   "execution_count": 13,
   "metadata": {},
   "outputs": [
    {
     "data": {
      "text/html": [
       "<div>\n",
       "<style scoped>\n",
       "    .dataframe tbody tr th:only-of-type {\n",
       "        vertical-align: middle;\n",
       "    }\n",
       "\n",
       "    .dataframe tbody tr th {\n",
       "        vertical-align: top;\n",
       "    }\n",
       "\n",
       "    .dataframe thead th {\n",
       "        text-align: right;\n",
       "    }\n",
       "</style>\n",
       "<table border=\"1\" class=\"dataframe\">\n",
       "  <thead>\n",
       "    <tr style=\"text-align: right;\">\n",
       "      <th></th>\n",
       "      <th>검색어1</th>\n",
       "      <th>검색어2</th>\n",
       "      <th>검색어3</th>\n",
       "      <th>검색어4</th>\n",
       "      <th>검색어5</th>\n",
       "    </tr>\n",
       "  </thead>\n",
       "  <tbody>\n",
       "    <tr>\n",
       "      <th>0</th>\n",
       "      <td>정국 방탄소년단</td>\n",
       "      <td>수영 소녀시대</td>\n",
       "      <td>준케이 2PM</td>\n",
       "      <td>아이린 레드벨벳</td>\n",
       "      <td>리사 블랙핑크</td>\n",
       "    </tr>\n",
       "    <tr>\n",
       "      <th>1</th>\n",
       "      <td>정국 방탄소년단</td>\n",
       "      <td>써니 소녀시대</td>\n",
       "      <td>티파니 소녀시대</td>\n",
       "      <td>지효 트와이스</td>\n",
       "      <td>정원 엔하이픈</td>\n",
       "    </tr>\n",
       "    <tr>\n",
       "      <th>2</th>\n",
       "      <td>정국 방탄소년단</td>\n",
       "      <td>백현 엑소</td>\n",
       "      <td>런쥔 엔시티</td>\n",
       "      <td>제이 엔하이픈</td>\n",
       "      <td>현진 스트레이키즈</td>\n",
       "    </tr>\n",
       "    <tr>\n",
       "      <th>3</th>\n",
       "      <td>정국 방탄소년단</td>\n",
       "      <td>필릭스 스트레이키즈</td>\n",
       "      <td>이승훈 위너</td>\n",
       "      <td>대성 빅뱅</td>\n",
       "      <td>민규 세븐틴</td>\n",
       "    </tr>\n",
       "    <tr>\n",
       "      <th>4</th>\n",
       "      <td>정국 방탄소년단</td>\n",
       "      <td>카이 엑소</td>\n",
       "      <td>다니엘 뉴진스</td>\n",
       "      <td>RM 방탄소년단</td>\n",
       "      <td>찬열 엑소</td>\n",
       "    </tr>\n",
       "    <tr>\n",
       "      <th>5</th>\n",
       "      <td>정국 방탄소년단</td>\n",
       "      <td>태연 소녀시대</td>\n",
       "      <td>닉쿤 2PM</td>\n",
       "      <td>지젤 에스파</td>\n",
       "      <td>지민 방탄소년단</td>\n",
       "    </tr>\n",
       "    <tr>\n",
       "      <th>6</th>\n",
       "      <td>정국 방탄소년단</td>\n",
       "      <td>윈터 에스파</td>\n",
       "      <td>홍은채 르세라핌</td>\n",
       "      <td>루카스 엔시티</td>\n",
       "      <td>닝닝 에스파</td>\n",
       "    </tr>\n",
       "    <tr>\n",
       "      <th>7</th>\n",
       "      <td>정국 방탄소년단</td>\n",
       "      <td>하루토 트레저</td>\n",
       "      <td>민지 뉴진스</td>\n",
       "      <td>첸 엑소</td>\n",
       "      <td>해찬 엔시티</td>\n",
       "    </tr>\n",
       "    <tr>\n",
       "      <th>8</th>\n",
       "      <td>정국 방탄소년단</td>\n",
       "      <td>유리 소녀시대</td>\n",
       "      <td>은혁 슈퍼주니어</td>\n",
       "      <td>윈윈 엔시티</td>\n",
       "      <td>제니 블랙핑크</td>\n",
       "    </tr>\n",
       "    <tr>\n",
       "      <th>9</th>\n",
       "      <td>정국 방탄소년단</td>\n",
       "      <td>채영 트와이스</td>\n",
       "      <td>태일 엔시티</td>\n",
       "      <td>나연 트와이스</td>\n",
       "      <td>희철 슈퍼주니어</td>\n",
       "    </tr>\n",
       "    <tr>\n",
       "      <th>10</th>\n",
       "      <td>정국 방탄소년단</td>\n",
       "      <td>송민호 위너</td>\n",
       "      <td>탑 빅뱅</td>\n",
       "      <td>윤재혁 트레저</td>\n",
       "      <td>웬디 레드벨벳</td>\n",
       "    </tr>\n",
       "    <tr>\n",
       "      <th>11</th>\n",
       "      <td>정국 방탄소년단</td>\n",
       "      <td>택연 2PM</td>\n",
       "      <td>조슈아 세븐틴</td>\n",
       "      <td>예리 레드벨벳</td>\n",
       "      <td>슈가 방탄소년단</td>\n",
       "    </tr>\n",
       "    <tr>\n",
       "      <th>12</th>\n",
       "      <td>정국 방탄소년단</td>\n",
       "      <td>슬기 레드벨벳</td>\n",
       "      <td>서현 소녀시대</td>\n",
       "      <td>태용 엔시티</td>\n",
       "      <td>방찬 스트레이키즈</td>\n",
       "    </tr>\n",
       "    <tr>\n",
       "      <th>13</th>\n",
       "      <td>정국 방탄소년단</td>\n",
       "      <td>승리 빅뱅</td>\n",
       "      <td>이특 슈퍼주니어</td>\n",
       "      <td>신동 슈퍼주니어</td>\n",
       "      <td>시원 슈퍼주니어</td>\n",
       "    </tr>\n",
       "    <tr>\n",
       "      <th>14</th>\n",
       "      <td>정국 방탄소년단</td>\n",
       "      <td>유노윤호 동방신기</td>\n",
       "      <td>리아 있지</td>\n",
       "      <td>지드래곤 빅뱅</td>\n",
       "      <td>도겸 세븐틴</td>\n",
       "    </tr>\n",
       "    <tr>\n",
       "      <th>15</th>\n",
       "      <td>정국 방탄소년단</td>\n",
       "      <td>니키 엔하이픈</td>\n",
       "      <td>김채원 르세라핌</td>\n",
       "      <td>쟈니 엔시티</td>\n",
       "      <td>None</td>\n",
       "    </tr>\n",
       "  </tbody>\n",
       "</table>\n",
       "</div>"
      ],
      "text/plain": [
       "        검색어1        검색어2      검색어3      검색어4       검색어5\n",
       "0   정국 방탄소년단     수영 소녀시대   준케이 2PM  아이린 레드벨벳    리사 블랙핑크\n",
       "1   정국 방탄소년단     써니 소녀시대  티파니 소녀시대   지효 트와이스    정원 엔하이픈\n",
       "2   정국 방탄소년단       백현 엑소    런쥔 엔시티   제이 엔하이픈  현진 스트레이키즈\n",
       "3   정국 방탄소년단  필릭스 스트레이키즈    이승훈 위너     대성 빅뱅     민규 세븐틴\n",
       "4   정국 방탄소년단       카이 엑소   다니엘 뉴진스  RM 방탄소년단      찬열 엑소\n",
       "5   정국 방탄소년단     태연 소녀시대    닉쿤 2PM    지젤 에스파   지민 방탄소년단\n",
       "6   정국 방탄소년단      윈터 에스파  홍은채 르세라핌   루카스 엔시티     닝닝 에스파\n",
       "7   정국 방탄소년단     하루토 트레저    민지 뉴진스      첸 엑소     해찬 엔시티\n",
       "8   정국 방탄소년단     유리 소녀시대  은혁 슈퍼주니어    윈윈 엔시티    제니 블랙핑크\n",
       "9   정국 방탄소년단     채영 트와이스    태일 엔시티   나연 트와이스   희철 슈퍼주니어\n",
       "10  정국 방탄소년단      송민호 위너      탑 빅뱅   윤재혁 트레저    웬디 레드벨벳\n",
       "11  정국 방탄소년단      택연 2PM   조슈아 세븐틴   예리 레드벨벳   슈가 방탄소년단\n",
       "12  정국 방탄소년단     슬기 레드벨벳   서현 소녀시대    태용 엔시티  방찬 스트레이키즈\n",
       "13  정국 방탄소년단       승리 빅뱅  이특 슈퍼주니어  신동 슈퍼주니어   시원 슈퍼주니어\n",
       "14  정국 방탄소년단   유노윤호 동방신기     리아 있지   지드래곤 빅뱅     도겸 세븐틴\n",
       "15  정국 방탄소년단     니키 엔하이픈  김채원 르세라핌    쟈니 엔시티       None"
      ]
     },
     "execution_count": 13,
     "metadata": {},
     "output_type": "execute_result"
    }
   ],
   "source": [
    "import pandas as pd\n",
    "import random\n",
    "\n",
    "# 검색어 딕셔너리\n",
    "search_keywords = {\n",
    "    \"슈가\": \"슈가 방탄소년단\", \"RM\": \"RM 방탄소년단\", \"지민\": \"지민 방탄소년단\", \"정국\": \"정국 방탄소년단\",\n",
    "    \"정원\": \"정원 엔하이픈\", \"제이\": \"제이 엔하이픈\", \"니키\": \"니키 엔하이픈\", \"김채원\": \"김채원 르세라핌\",\n",
    "    \"홍은채\": \"홍은채 르세라핌\", \"조슈아\": \"조슈아 세븐틴\", \"민규\": \"민규 세븐틴\", \"도겸\": \"도겸 세븐틴\",\n",
    "    \"민지\": \"민지 뉴진스\", \"다니엘\": \"다니엘 뉴진스\", \"준케이\": \"준케이 2PM\", \"닉쿤\": \"닉쿤 2PM\",\n",
    "    \"택연\": \"택연 2PM\", \"나연\": \"나연 트와이스\", \"지효\": \"지효 트와이스\", \"채영\": \"채영 트와이스\",\n",
    "    \"방찬\": \"방찬 스트레이키즈\", \"현진\": \"현진 스트레이키즈\", \"필릭스\": \"필릭스 스트레이키즈\",\n",
    "    \"리아\": \"리아 있지\", \"백현\": \"백현 엑소\", \"첸\": \"첸 엑소\", \"찬열\": \"찬열 엑소\", \"카이\": \"카이 엑소\",\n",
    "    \"유노윤호\": \"유노윤호 동방신기\", \"이특\": \"이특 슈퍼주니어\", \"희철\": \"희철 슈퍼주니어\",\n",
    "    \"신동\": \"신동 슈퍼주니어\", \"은혁\": \"은혁 슈퍼주니어\", \"시원\": \"시원 슈퍼주니어\", \"태연\": \"태연 소녀시대\",\n",
    "    \"써니\": \"써니 소녀시대\", \"티파니\": \"티파니 소녀시대\", \"유리\": \"유리 소녀시대\", \"수영\": \"수영 소녀시대\",\n",
    "    \"서현\": \"서현 소녀시대\", \"아이린\": \"아이린 레드벨벳\", \"슬기\": \"슬기 레드벨벳\", \"웬디\": \"웬디 레드벨벳\",\n",
    "    \"예리\": \"예리 레드벨벳\", \"쟈니\": \"쟈니 엔시티\", \"태용\": \"태용 엔시티\", \"윈윈\": \"윈윈 엔시티\",\n",
    "    \"런쥔\": \"런쥔 엔시티\", \"해찬\": \"해찬 엔시티\", \"루카스\": \"루카스 엔시티\", \"태일\": \"태일 엔시티\",\n",
    "    \"지젤\": \"지젤 에스파\", \"윈터\": \"윈터 에스파\", \"닝닝\": \"닝닝 에스파\", \"승리\": \"승리 빅뱅\",\n",
    "    \"탑\": \"탑 빅뱅\", \"지드래곤\": \"지드래곤 빅뱅\", \"대성\": \"대성 빅뱅\", \"제니\": \"제니 블랙핑크\",\n",
    "    \"리사\": \"리사 블랙핑크\", \"송민호\": \"송민호 위너\", \"이승훈\": \"이승훈 위너\", \"윤재혁\": \"윤재혁 트레저\",\n",
    "    \"하루토\": \"하루토 트레저\"\n",
    "}\n",
    "\n",
    "anchor = \"정국\"\n",
    "comparison_names = [name for name in search_keywords if name != anchor]\n",
    "random.shuffle(comparison_names)\n",
    "\n",
    "group_size = 4\n",
    "comparison_groups = [comparison_names[i:i+group_size] for i in range(0, len(comparison_names), group_size)]\n",
    "\n",
    "# anchor 포함된 요청 그룹 생성 (마지막 그룹은 인원수 그대로 허용)\n",
    "request_groups = []\n",
    "for group in comparison_groups:\n",
    "    request_group = [search_keywords[anchor]] + [search_keywords[name] for name in group]\n",
    "    request_groups.append(request_group)\n",
    "\n",
    "# 최대 길이 5로 컬럼명 설정\n",
    "max_len = max(len(g) for g in request_groups)\n",
    "columns = [f\"검색어{i+1}\" for i in range(max_len)]\n",
    "df = pd.DataFrame(request_groups, columns=columns)\n",
    "\n",
    "df\n"
   ]
  },
  {
   "cell_type": "markdown",
   "metadata": {},
   "source": [
    "## 5. 기준 연예인을 기준으로 시간에 따른 관심도 지수 데이터 추출"
   ]
  },
  {
   "cell_type": "markdown",
   "metadata": {},
   "source": [
    "pip install pytrends"
   ]
  },
  {
   "cell_type": "code",
   "execution_count": 15,
   "metadata": {},
   "outputs": [
    {
     "name": "stdout",
     "output_type": "stream",
     "text": [
      "오류 발생: ['정국 방탄소년단', '수영 소녀시대', '준케이 2PM', '아이린 레드벨벳', '리사 블랙핑크'] - The request failed: Google returned a response with code 429\n",
      "오류 발생: ['정국 방탄소년단', '써니 소녀시대', '티파니 소녀시대', '지효 트와이스', '정원 엔하이픈'] - The request failed: Google returned a response with code 429\n",
      "오류 발생: ['정국 방탄소년단', '백현 엑소', '런쥔 엔시티', '제이 엔하이픈', '현진 스트레이키즈'] - The request failed: Google returned a response with code 429\n",
      "오류 발생: ['정국 방탄소년단', '필릭스 스트레이키즈', '이승훈 위너', '대성 빅뱅', '민규 세븐틴'] - The request failed: Google returned a response with code 429\n",
      "오류 발생: ['정국 방탄소년단', '카이 엑소', '다니엘 뉴진스', 'RM 방탄소년단', '찬열 엑소'] - The request failed: Google returned a response with code 429\n",
      "오류 발생: ['정국 방탄소년단', '태연 소녀시대', '닉쿤 2PM', '지젤 에스파', '지민 방탄소년단'] - The request failed: Google returned a response with code 429\n",
      "오류 발생: ['정국 방탄소년단', '윈터 에스파', '홍은채 르세라핌', '루카스 엔시티', '닝닝 에스파'] - The request failed: Google returned a response with code 429\n"
     ]
    },
    {
     "name": "stderr",
     "output_type": "stream",
     "text": [
      "c:\\Users\\6aimh\\anaconda3\\envs\\finance_2\\Lib\\site-packages\\pytrends\\request.py:260: FutureWarning: Downcasting object dtype arrays on .fillna, .ffill, .bfill is deprecated and will change in a future version. Call result.infer_objects(copy=False) instead. To opt-in to the future behavior, set `pd.set_option('future.no_silent_downcasting', True)`\n",
      "  df = df.fillna(False)\n"
     ]
    },
    {
     "name": "stdout",
     "output_type": "stream",
     "text": [
      "완료: ['정국 방탄소년단', '하루토 트레저', '민지 뉴진스', '첸 엑소', '해찬 엔시티']\n",
      "오류 발생: ['정국 방탄소년단', '유리 소녀시대', '은혁 슈퍼주니어', '윈윈 엔시티', '제니 블랙핑크'] - The request failed: Google returned a response with code 429\n",
      "오류 발생: ['정국 방탄소년단', '채영 트와이스', '태일 엔시티', '나연 트와이스', '희철 슈퍼주니어'] - The request failed: Google returned a response with code 429\n",
      "오류 발생: ['정국 방탄소년단', '송민호 위너', '탑 빅뱅', '윤재혁 트레저', '웬디 레드벨벳'] - The request failed: Google returned a response with code 429\n",
      "오류 발생: ['정국 방탄소년단', '택연 2PM', '조슈아 세븐틴', '예리 레드벨벳', '슈가 방탄소년단'] - The request failed: Google returned a response with code 429\n",
      "오류 발생: ['정국 방탄소년단', '슬기 레드벨벳', '서현 소녀시대', '태용 엔시티', '방찬 스트레이키즈'] - The request failed: Google returned a response with code 429\n",
      "오류 발생: ['정국 방탄소년단', '승리 빅뱅', '이특 슈퍼주니어', '신동 슈퍼주니어', '시원 슈퍼주니어'] - The request failed: Google returned a response with code 429\n",
      "오류 발생: ['정국 방탄소년단', '유노윤호 동방신기', '리아 있지', '지드래곤 빅뱅', '도겸 세븐틴'] - The request failed: Google returned a response with code 429\n",
      "오류 발생: ['정국 방탄소년단', '니키 엔하이픈', '김채원 르세라핌', '쟈니 엔시티'] - The request failed: Google returned a response with code 429\n",
      "      비교대상    anchor  anchor평균     비교자평균   비율(절대화)\n",
      "0  하루토 트레저  정국 방탄소년단  0.361868  0.245136  0.677419\n",
      "1   민지 뉴진스  정국 방탄소년단  0.361868  3.237354  8.946237\n",
      "2     첸 엑소  정국 방탄소년단  0.361868  0.747082  2.064516\n",
      "3   해찬 엔시티  정국 방탄소년단  0.361868  0.050584  0.139785\n"
     ]
    }
   ],
   "source": [
    "from pytrends.request import TrendReq\n",
    "import pandas as pd\n",
    "import time\n",
    "\n",
    "# pytrends 세팅\n",
    "pytrends = TrendReq(hl='ko', tz=540)\n",
    "\n",
    "# 요청 그룹 예시 (df 그대로 사용)\n",
    "request_groups = df.values.tolist()\n",
    "\n",
    "# 결과 저장용\n",
    "result_list = []\n",
    "\n",
    "# 크롤링 루프\n",
    "for group in request_groups:\n",
    "    keywords = [kw for kw in group if pd.notnull(kw)]  # None 값 제외\n",
    "    \n",
    "    try:\n",
    "        pytrends.build_payload(\n",
    "            kw_list=keywords,\n",
    "            cat=3,              # 예술 & 엔터테인먼트\n",
    "            timeframe='all',    # 2004~현재\n",
    "            geo='KR',           # 대한민국\n",
    "            gprop=''            # 웹 검색\n",
    "        )\n",
    "        data = pytrends.interest_over_time()\n",
    "\n",
    "        if not data.empty:\n",
    "            avg_interest = data[keywords].mean()\n",
    "            anchor_score = avg_interest[keywords[0]]\n",
    "            \n",
    "            for kw in keywords[1:]:\n",
    "                ratio = avg_interest[kw] / anchor_score if anchor_score != 0 else 0\n",
    "                result_list.append({\n",
    "                    \"비교대상\": kw,\n",
    "                    \"anchor\": keywords[0],\n",
    "                    \"anchor평균\": anchor_score,\n",
    "                    \"비교자평균\": avg_interest[kw],\n",
    "                    \"비율(절대화)\": ratio\n",
    "                })\n",
    "        \n",
    "        print(f\"완료: {keywords}\")\n",
    "\n",
    "    except Exception as e:\n",
    "        print(f\"오류 발생: {keywords} - {e}\")\n",
    "\n",
    "    time.sleep(10)  # 요청 간 딜레이\n",
    "\n",
    "# 최종 데이터프레임\n",
    "result_df = pd.DataFrame(result_list)\n",
    "print(result_df)\n",
    "\n",
    "# CSV로 저장\n",
    "result_df.to_csv(\"../데이터/관심도_상대지수_결과.csv\", index=False, encoding='utf-8-sig')"
   ]
  },
  {
   "cell_type": "code",
   "execution_count": null,
   "metadata": {},
   "outputs": [],
   "source": [
    "from pytrends.request import TrendReq\n",
    "import pandas as pd\n",
    "import time\n",
    "\n",
    "pytrends = TrendReq(hl='ko', tz=540)\n",
    "request_groups = df.values.tolist()\n",
    "result_list = []\n",
    "\n",
    "for group in request_groups:\n",
    "    keywords = [kw for kw in group if pd.notnull(kw)]\n",
    "    \n",
    "    try:\n",
    "        pytrends.build_payload(\n",
    "            kw_list=keywords,\n",
    "            cat=3,\n",
    "            timeframe='all',\n",
    "            geo='KR',\n",
    "            gprop=''\n",
    "        )\n",
    "        data = pytrends.interest_over_time()\n",
    "\n",
    "        if not data.empty:\n",
    "            avg_interest = data[keywords].mean()\n",
    "\n",
    "            # 비교자만 결과에 저장 (anchor 제외)\n",
    "            for kw in keywords[1:]:\n",
    "                result_list.append({\n",
    "                    \"연예인\": kw,\n",
    "                    \"평균관심도(0~100)\": avg_interest[kw]\n",
    "                })\n",
    "        \n",
    "        print(f\"완료: {keywords}\")\n",
    "\n",
    "    except Exception as e:\n",
    "        print(f\"오류 발생: {keywords} - {e}\")\n",
    "\n",
    "    time.sleep(20)  # 딜레이 늘리기\n",
    "\n",
    "# 최종 데이터프레임\n",
    "result_df = pd.DataFrame(result_list)\n",
    "print(result_df)"
   ]
  },
  {
   "cell_type": "code",
   "execution_count": null,
   "metadata": {},
   "outputs": [],
   "source": [
    "# CSV로 저장\n",
    "result_df.to_csv(\"관심도_절대지표_결과1.csv\", index=False, encoding='utf-8-sig')"
   ]
  },
  {
   "cell_type": "markdown",
   "metadata": {},
   "source": [
    "#### 정국의 평균 관심도로 나눠주는 거 없애고, time,sleep() 크게 설정."
   ]
  },
  {
   "cell_type": "code",
   "execution_count": null,
   "metadata": {},
   "outputs": [
    {
     "name": "stdout",
     "output_type": "stream",
     "text": [
      "오류 발생 (시도 1): ['정국 방탄소년단', '수영 소녀시대', '준케이 2PM', '아이린 레드벨벳', '리사 블랙핑크'] - The request failed: Google returned a response with code 429\n",
      "10분 대기 후 재시도...\n"
     ]
    }
   ],
   "source": [
    "from pytrends.request import TrendReq\n",
    "import pandas as pd\n",
    "import time\n",
    "\n",
    "pytrends = TrendReq(hl='ko', tz=540)\n",
    "request_groups = df.values.tolist()\n",
    "result_list = []\n",
    "\n",
    "for group in request_groups:\n",
    "    keywords = [kw for kw in group if pd.notnull(kw)]\n",
    "    \n",
    "    success = False\n",
    "    attempts = 0\n",
    "    while not success and attempts < 2:  # 최대 2회 시도\n",
    "        try:\n",
    "            pytrends.build_payload(\n",
    "                kw_list=keywords,\n",
    "                cat=3,\n",
    "                timeframe='all',\n",
    "                geo='KR',\n",
    "                gprop=''\n",
    "            )\n",
    "            data = pytrends.interest_over_time()\n",
    "\n",
    "            if not data.empty:\n",
    "                avg_interest = data[keywords].mean()\n",
    "\n",
    "                # 이제 anchor(정국) 포함 전체 저장\n",
    "                for kw in keywords:\n",
    "                    result_list.append({\n",
    "                        \"연예인\": kw,\n",
    "                        \"평균관심도(0~100)\": avg_interest[kw]\n",
    "                    })\n",
    "            print(f\"완료: {keywords}\")\n",
    "            success = True\n",
    "\n",
    "        except Exception as e:\n",
    "            print(f\"오류 발생 (시도 {attempts+1}): {keywords} - {e}\")\n",
    "            attempts += 1\n",
    "            if attempts < 2:\n",
    "                print(\"10분 대기 후 재시도...\")\n",
    "                time.sleep(600)  # 10분 대기\n",
    "\n",
    "    print(\"다음 그룹으로 넘어갑니다... (60초 대기)\")\n",
    "    time.sleep(60)  # 기본 대기 (60초)\n",
    "\n",
    "# 최종 데이터프레임\n",
    "result_df = pd.DataFrame(result_list)\n",
    "print(result_df)"
   ]
  },
  {
   "cell_type": "code",
   "execution_count": null,
   "metadata": {},
   "outputs": [],
   "source": [
    "result_df.to_csv(\"../데이터/관심도_절대지표_결과2.csv\", index=False, encoding='utf-8-sig')"
   ]
  },
  {
   "cell_type": "markdown",
   "metadata": {},
   "source": [
    "#### 더 느리게"
   ]
  },
  {
   "cell_type": "code",
   "execution_count": null,
   "metadata": {},
   "outputs": [],
   "source": [
    "from pytrends.request import TrendReq\n",
    "import pandas as pd\n",
    "import time\n",
    "\n",
    "request_groups = df.values.tolist()\n",
    "result_list = []\n",
    "\n",
    "for group in request_groups:\n",
    "    keywords = [kw for kw in group if pd.notnull(kw)]\n",
    "    \n",
    "    success = False\n",
    "    attempts = 0\n",
    "    while not success and attempts < 2:  # 최대 2회 시도\n",
    "        try:\n",
    "            # pytrends 매번 새로 생성 (세션 초기화 느낌)\n",
    "            pytrends = TrendReq(hl='ko', tz=540)\n",
    "            \n",
    "            pytrends.build_payload(\n",
    "                kw_list=keywords,\n",
    "                cat=3,\n",
    "                timeframe='all',\n",
    "                geo='KR',\n",
    "                gprop=''\n",
    "            )\n",
    "            data = pytrends.interest_over_time()\n",
    "\n",
    "            if not data.empty:\n",
    "                avg_interest = data[keywords].mean()\n",
    "\n",
    "                for kw in keywords:\n",
    "                    result_list.append({\n",
    "                        \"연예인\": kw,\n",
    "                        \"평균관심도(0~100)\": avg_interest[kw]\n",
    "                    })\n",
    "            print(f\"완료: {keywords}\")\n",
    "            success = True\n",
    "\n",
    "        except Exception as e:\n",
    "            print(f\"오류 발생 (시도 {attempts+1}): {keywords} - {e}\")\n",
    "            attempts += 1\n",
    "            if attempts < 2:\n",
    "                print(\"15분 대기 후 재시도...\")\n",
    "                time.sleep(900)  # 15분 대기\n",
    "\n",
    "    print(\"다음 그룹으로 넘어갑니다... (90초 대기)\")\n",
    "    time.sleep(90)  # 기본 대기 (90초)\n",
    "\n",
    "# 최종 데이터프레임\n",
    "result_df = pd.DataFrame(result_list)\n",
    "print(result_df)\n"
   ]
  },
  {
   "cell_type": "code",
   "execution_count": null,
   "metadata": {},
   "outputs": [],
   "source": [
    "result_df.to_csv(\"../데이터/관심도_절대지표_결과3.csv\", index=False, encoding='utf-8-sig')"
   ]
  },
  {
   "cell_type": "code",
   "execution_count": null,
   "metadata": {},
   "outputs": [],
   "source": []
  },
  {
   "cell_type": "markdown",
   "metadata": {},
   "source": [
    "# 문제점"
   ]
  },
  {
   "cell_type": "markdown",
   "metadata": {},
   "source": [
    "1. 관심도 : 평균 관심도를 구하는 방식에 대한 고민\n",
    "    - 기준 연예인의 최대 관심도를 100으로 두어 다른 연예인 들의 관심도를 상대적으로 측정하여 절대 관심도로 사용하는 건 ok\n",
    "    - 평균 관심도 : 0을 제외한 날 들의 수로 그 날들의 관심도 합을 나누어 준 값 => 어떰?\n",
    "    - 그럼 각 날짜마다의 관심도를 어떻게 활용하여 각 연예인의 관심도로 사용할 것인지\n",
    "        - 2004년부터 현재까지의 모든 날의 수로 나누어줘서 \n",
    "        - \n",
    "    - 기간 설정을 어떻게 할 것인지.\n",
    "2. 각 소속사의 주가가 hybe는 2020~현재, 나머지는 2014~현재 인데이 기간 밖에 일어난 사건인 경우에는 주가 변동성을 확인할 수 없음.\n",
    "    - 이는 정당성 확인 할 때에도 잘못 되었을 것 같은데..확인해봐야할 듯..\n",
    "3. "
   ]
  },
  {
   "cell_type": "markdown",
   "metadata": {},
   "source": []
  }
 ],
 "metadata": {
  "kernelspec": {
   "display_name": "finance_2",
   "language": "python",
   "name": "python3"
  },
  "language_info": {
   "codemirror_mode": {
    "name": "ipython",
    "version": 3
   },
   "file_extension": ".py",
   "mimetype": "text/x-python",
   "name": "python",
   "nbconvert_exporter": "python",
   "pygments_lexer": "ipython3",
   "version": "3.12.9"
  }
 },
 "nbformat": 4,
 "nbformat_minor": 2
}
