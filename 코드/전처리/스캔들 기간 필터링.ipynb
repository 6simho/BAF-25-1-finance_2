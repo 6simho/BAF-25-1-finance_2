{
 "cells": [
  {
   "cell_type": "markdown",
   "id": "b13fd3e9",
   "metadata": {},
   "source": [
    "### 소속사별 그룹핑하여 스캔들 날짜 범위 확인"
   ]
  },
  {
   "cell_type": "code",
   "execution_count": 1,
   "id": "fcc84f00",
   "metadata": {},
   "outputs": [],
   "source": [
    "import pandas as pd"
   ]
  },
  {
   "cell_type": "code",
   "execution_count": 6,
   "id": "f12ed4a8",
   "metadata": {},
   "outputs": [
    {
     "name": "stdout",
     "output_type": "stream",
     "text": [
      "<class 'pandas.core.frame.DataFrame'>\n",
      "RangeIndex: 453 entries, 0 to 452\n",
      "Data columns (total 5 columns):\n",
      " #   Column  Non-Null Count  Dtype         \n",
      "---  ------  --------------  -----         \n",
      " 0   소속사     453 non-null    object        \n",
      " 1   그룹      307 non-null    object        \n",
      " 2   연예인 이름  453 non-null    object        \n",
      " 3   사건 날짜   453 non-null    datetime64[ns]\n",
      " 4   사건 내용   453 non-null    object        \n",
      "dtypes: datetime64[ns](1), object(4)\n",
      "memory usage: 17.8+ KB\n"
     ]
    }
   ],
   "source": [
    "df = pd.read_csv(\"C:/Users/chica/OneDrive/바탕 화면/BAF-25-1-finance_2/데이터/스캔들/ALL논란_크롤링.csv\", parse_dates=['사건 날짜'])\n",
    "df.info()"
   ]
  },
  {
   "cell_type": "code",
   "execution_count": 10,
   "id": "151e4060",
   "metadata": {},
   "outputs": [
    {
     "data": {
      "text/html": [
       "<div>\n",
       "<style scoped>\n",
       "    .dataframe tbody tr th:only-of-type {\n",
       "        vertical-align: middle;\n",
       "    }\n",
       "\n",
       "    .dataframe tbody tr th {\n",
       "        vertical-align: top;\n",
       "    }\n",
       "\n",
       "    .dataframe thead th {\n",
       "        text-align: right;\n",
       "    }\n",
       "</style>\n",
       "<table border=\"1\" class=\"dataframe\">\n",
       "  <thead>\n",
       "    <tr style=\"text-align: right;\">\n",
       "      <th></th>\n",
       "      <th>소속사</th>\n",
       "      <th>min</th>\n",
       "      <th>max</th>\n",
       "    </tr>\n",
       "  </thead>\n",
       "  <tbody>\n",
       "    <tr>\n",
       "      <th>0</th>\n",
       "      <td>HYBE</td>\n",
       "      <td>2016-07-06</td>\n",
       "      <td>2024-09-07</td>\n",
       "    </tr>\n",
       "    <tr>\n",
       "      <th>1</th>\n",
       "      <td>JYP</td>\n",
       "      <td>2012-07-24</td>\n",
       "      <td>2025-03-02</td>\n",
       "    </tr>\n",
       "    <tr>\n",
       "      <th>2</th>\n",
       "      <td>RBW</td>\n",
       "      <td>2018-11-27</td>\n",
       "      <td>2023-10-31</td>\n",
       "    </tr>\n",
       "    <tr>\n",
       "      <th>3</th>\n",
       "      <td>SM</td>\n",
       "      <td>1984-01-08</td>\n",
       "      <td>2025-04-16</td>\n",
       "    </tr>\n",
       "    <tr>\n",
       "      <th>4</th>\n",
       "      <td>SM C&amp;C</td>\n",
       "      <td>1970-03-09</td>\n",
       "      <td>2023-08-15</td>\n",
       "    </tr>\n",
       "    <tr>\n",
       "      <th>5</th>\n",
       "      <td>YG</td>\n",
       "      <td>2007-07-29</td>\n",
       "      <td>2025-01-16</td>\n",
       "    </tr>\n",
       "    <tr>\n",
       "      <th>6</th>\n",
       "      <td>아티스트컴퍼니</td>\n",
       "      <td>1999-09-13</td>\n",
       "      <td>2024-11-24</td>\n",
       "    </tr>\n",
       "    <tr>\n",
       "      <th>7</th>\n",
       "      <td>큐브</td>\n",
       "      <td>2010-03-31</td>\n",
       "      <td>2023-12-15</td>\n",
       "    </tr>\n",
       "    <tr>\n",
       "      <th>8</th>\n",
       "      <td>키이스트</td>\n",
       "      <td>1991-11-19</td>\n",
       "      <td>2025-12-31</td>\n",
       "    </tr>\n",
       "  </tbody>\n",
       "</table>\n",
       "</div>"
      ],
      "text/plain": [
       "       소속사        min        max\n",
       "0     HYBE 2016-07-06 2024-09-07\n",
       "1      JYP 2012-07-24 2025-03-02\n",
       "2      RBW 2018-11-27 2023-10-31\n",
       "3       SM 1984-01-08 2025-04-16\n",
       "4   SM C&C 1970-03-09 2023-08-15\n",
       "5       YG 2007-07-29 2025-01-16\n",
       "6  아티스트컴퍼니 1999-09-13 2024-11-24\n",
       "7       큐브 2010-03-31 2023-12-15\n",
       "8     키이스트 1991-11-19 2025-12-31"
      ]
     },
     "execution_count": 10,
     "metadata": {},
     "output_type": "execute_result"
    }
   ],
   "source": [
    "group = df.groupby('소속사')['사건 날짜'].agg(['min', 'max']).reset_index()\n",
    "group"
   ]
  },
  {
   "cell_type": "code",
   "execution_count": null,
   "id": "d11008d6",
   "metadata": {},
   "outputs": [
    {
     "data": {
      "text/plain": [
       "min   2020-10-16\n",
       "max   2025-04-29\n",
       "Name: 날짜, dtype: datetime64[ns]"
      ]
     },
     "execution_count": 13,
     "metadata": {},
     "output_type": "execute_result"
    }
   ],
   "source": [
    "hybe = pd.read_csv(\"C:/Users/chica/OneDrive/바탕 화면/BAF-25-1-finance_2/데이터/주가/HYBE.csv\", parse_dates=['날짜'])\n",
    "hybe_min = hybe['날짜'].agg(['min', 'max'])"
   ]
  },
  {
   "cell_type": "code",
   "execution_count": 14,
   "id": "cfd1c2d9",
   "metadata": {},
   "outputs": [
    {
     "data": {
      "text/plain": [
       "9"
      ]
     },
     "execution_count": 14,
     "metadata": {},
     "output_type": "execute_result"
    }
   ],
   "source": [
    "len(group)"
   ]
  },
  {
   "cell_type": "code",
   "execution_count": null,
   "id": "1b8f1255",
   "metadata": {},
   "outputs": [],
   "source": [
    "def date_filter(df, stock_dir):\n",
    "\n",
    "    result_list = []\n",
    "    grouped = df.groupby('소속사')\n",
    "\n",
    "    for name, group in grouped:\n",
    "        \n",
    "        stock_path = f\"{stock_dir}/{name}.csv\"\n",
    "        stock = pd.read_csv(stock_path, parse_dates=['날짜'])\n",
    "        stock_min = stock['날짜'].min()\n",
    "        stock_max = stock['날짜'].max()\n",
    "\n",
    "        filtered = group[(group['사건 날짜']>= stock_min)\n",
    "                        &(group['사건 날짜']<= stock_max)]\n",
    "        result_list.append(filtered)\n",
    "        \n",
    "    result = pd.concat(result_list, ignore_index=True)\n",
    "    return result"
   ]
  },
  {
   "cell_type": "code",
   "execution_count": 17,
   "id": "2cfd1df7",
   "metadata": {},
   "outputs": [
    {
     "name": "stdout",
     "output_type": "stream",
     "text": [
      "    소속사     그룹 연예인 이름      사건 날짜  \\\n",
      "0  HYBE  방탄소년단     지민 2022-04-25   \n",
      "1  HYBE  방탄소년단     정국 2024-01-06   \n",
      "2  HYBE   엔하이픈     정원 2021-11-18   \n",
      "3  HYBE   엔하이픈     정원 2021-11-19   \n",
      "4  HYBE   엔하이픈     제이 2023-01-10   \n",
      "\n",
      "                                               사건 내용  \n",
      "0  2022년 4월 25일, 언론사 비즈한국의 취재결과 건강보험료 체납으로 보유하고 있...  \n",
      "1  2024년 1월 6일, 정국이 입대 후 신병 교육을 받는 동안 발생했다. 탈취범은 ...  \n",
      "2  2021년 11월 18일 오후 5시 , ENHYPEN 은 D-1 이라는 제목으로 V...  \n",
      "3  2021년 11월 19일 사과문을 게시했다. [ 펼치기 · 접기 ] 엔진 여러분 안...  \n",
      "4  2023년 1월 10일, 멤버 성훈과 함께 진행한 위버스 라이브 도중 요즘 한국사 ...  \n"
     ]
    }
   ],
   "source": [
    "stock_dir = \"C:/Users/chica/OneDrive/바탕 화면/BAF-25-1-finance_2/데이터/주가\"\n",
    "filtered_df = date_filter(df, stock_dir)\n",
    "filtered_df.to_csv(\"C:/Users/chica/OneDrive/바탕 화면/BAF-25-1-finance_2/데이터/ALL논란_Filtered.csv\", index=False)\n",
    "print(filtered_df.head())"
   ]
  },
  {
   "cell_type": "markdown",
   "id": "c1cdc247",
   "metadata": {},
   "source": [
    "필터링 이전"
   ]
  },
  {
   "cell_type": "code",
   "execution_count": 19,
   "id": "9c4d7594",
   "metadata": {},
   "outputs": [
    {
     "data": {
      "text/plain": [
       "453"
      ]
     },
     "execution_count": 19,
     "metadata": {},
     "output_type": "execute_result"
    }
   ],
   "source": [
    "len(df)"
   ]
  },
  {
   "cell_type": "markdown",
   "id": "199f9296",
   "metadata": {},
   "source": [
    "필터링 이후"
   ]
  },
  {
   "cell_type": "code",
   "execution_count": 18,
   "id": "ed715f2c",
   "metadata": {},
   "outputs": [
    {
     "data": {
      "text/plain": [
       "390"
      ]
     },
     "execution_count": 18,
     "metadata": {},
     "output_type": "execute_result"
    }
   ],
   "source": [
    "len(filtered_df)"
   ]
  }
 ],
 "metadata": {
  "kernelspec": {
   "display_name": "Python 3",
   "language": "python",
   "name": "python3"
  },
  "language_info": {
   "codemirror_mode": {
    "name": "ipython",
    "version": 3
   },
   "file_extension": ".py",
   "mimetype": "text/x-python",
   "name": "python",
   "nbconvert_exporter": "python",
   "pygments_lexer": "ipython3",
   "version": "3.12.2"
  }
 },
 "nbformat": 4,
 "nbformat_minor": 5
}
